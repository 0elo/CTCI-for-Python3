{
 "cells": [
  {
   "cell_type": "markdown",
   "metadata": {},
   "source": [
    "<a id='top'></a>\n",
    "\n",
    "# CTCI for Python 3.6\n",
    "\n",
    "**Notebook arranged by:** [Kevin Yu](https://github.com/0elo)\n",
    "\n",
    "Support *Cracking the Coding Interview: 189 Programming Questions and Solutions, 6th Edition* by Gayle Laakmann McDowell by buying the book on [Amazon](https://www.amazon.com/Cracking-Coding-Interview-Programming-Questions/dp/0984782850/ref=sr_1_1?ie=UTF8&qid=1521267378&sr=8-1&keywords=ctci)."
   ]
  },
  {
   "cell_type": "markdown",
   "metadata": {},
   "source": [
    "### Chapter 4: Trees and Graphs\n",
    "\n",
    "[Problem 4.1: Route Between Nodes](#4.1)\n",
    "\n",
    "[Problem 4.2: Minimal Tree](#4.2)\n",
    "\n",
    "[Problem 4.3: List of Depths](#4.3)\n",
    "\n",
    "[Problem 4.4: Check Balanced](#4.4)\n",
    "\n",
    "[Problem 4.5: Validate BST](#4.5)\n",
    "\n",
    "[Problem 4.6: Successor](#4.6)\n",
    "\n",
    "[Problem 4.7: Build Order](#4.7)\n",
    "\n",
    "[Problem 4.8: First Common Ancestor](#4.8)\n",
    "\n",
    "[Problem 4.9: BST Sequences](#4.9)\n",
    "\n",
    "[Problem 4.10: Check Subtree](#4.10)\n",
    "\n",
    "[Problem 4.11: Random Node](#4.11)\n",
    "\n",
    "[Problem 4.12: Paths with Sum](#4.12)"
   ]
  },
  {
   "cell_type": "code",
   "execution_count": null,
   "metadata": {
    "collapsed": true
   },
   "outputs": [],
   "source": []
  },
  {
   "cell_type": "markdown",
   "metadata": {},
   "source": [
    "<a id='4.1'></a>\n",
    "\n",
    "[Back to Top](#top)\n",
    "\n",
    "### 4.1 Route Between Nodes\n",
    "\n",
    "Given a directed graph, design an algorithm to find out whether there is a route between two nodes."
   ]
  },
  {
   "cell_type": "code",
   "execution_count": null,
   "metadata": {
    "collapsed": true
   },
   "outputs": [],
   "source": []
  },
  {
   "cell_type": "markdown",
   "metadata": {},
   "source": [
    "<a id='4.2'></a>\n",
    "\n",
    "[Back to Top](#top)\n",
    "\n",
    "### 4.2 Minimal Tree\n",
    "\n",
    "Given a sorted (increasing order) array with unique integer elements, write an algorithm to create a binary search tree with minimal height."
   ]
  },
  {
   "cell_type": "markdown",
   "metadata": {},
   "source": [
    "<a id='4.3'></a>\n",
    "\n",
    "[Back to Top](#top)\n",
    "\n",
    "### 4.3 List of Depths\n",
    "\n",
    "Given a binary tree, design an algorithm which creates a linked list of all the nodes at each depth (e.g., if you have a tree with depth D, you'll have D linked lists)."
   ]
  },
  {
   "cell_type": "markdown",
   "metadata": {},
   "source": [
    "<a id='4.4'></a>\n",
    "\n",
    "[Back to Top](#top)\n",
    "\n",
    "### 4.4 Check Balanced\n",
    "\n",
    "Implement a function to check if a binary tree is balanced. For the purposes of this question, a balanced tree is defined to be a tree such that the heights of the two subtrees of any node never differ by more than one."
   ]
  },
  {
   "cell_type": "markdown",
   "metadata": {},
   "source": [
    "<a id='4.5'></a>\n",
    "\n",
    "[Back to Top](#top)\n",
    "\n",
    "### 4.5 Validate BST\n",
    "\n",
    "Implement a function to check if a binary tree is a binary search tree."
   ]
  },
  {
   "cell_type": "markdown",
   "metadata": {},
   "source": [
    "<a id='4.6'></a>\n",
    "\n",
    "[Back to Top](#top)\n",
    "\n",
    "### 4.6 Successor\n",
    "\n",
    "Write an algorithm to find the \"next\" node (i.e., in-order successor) of a given node in a binary serach tree. You may assume that each node has a link to its parent."
   ]
  },
  {
   "cell_type": "markdown",
   "metadata": {},
   "source": [
    "<a id='4.7'></a>\n",
    "\n",
    "[Back to Top](#top)\n",
    "\n",
    "### 4.7 Build Order\n",
    "\n",
    "You are given a list of projects and a list of dependencies (which is a list of pairs of projects, where the second project is dependent on the first project). All of a project's dependencies must be built before the project is. Find a build order that will allow the projects to be built. If there is no valid build order, return an error."
   ]
  },
  {
   "cell_type": "markdown",
   "metadata": {},
   "source": [
    "<a id='4.8'></a>\n",
    "\n",
    "[Back to Top](#top)\n",
    "\n",
    "### 4.8 First Common Ancestor\n",
    "\n",
    "Design an algorithm and write code to find the first common ancestor of two nodes in a binary tree. Avoid storing additional nodes in a data structure. NOTE: This is not necessarily a binary search tree."
   ]
  },
  {
   "cell_type": "markdown",
   "metadata": {},
   "source": [
    "<a id='4.9'></a>\n",
    "\n",
    "[Back to Top](#top)\n",
    "\n",
    "### 4.9 BST Sequences\n",
    "\n",
    "A binary search tree was created by treaversing through an array from left to right and inserting each element. Given a binary search tree with distinct elements, print all possible arrays that could have led to this tree."
   ]
  },
  {
   "cell_type": "markdown",
   "metadata": {},
   "source": [
    "<a id='4.10'></a>\n",
    "\n",
    "[Back to Top](#top)\n",
    "\n",
    "### 4.10 Check Subtree\n",
    "\n",
    "T1 and T2 are two very large binary trees, with T1 much bigger than T2. Create an algorithm to determine if T2 is a subtree of T1.\n",
    "\n",
    "A tree T2 is a subtree of T1 if there exists a node n in T1 such that the subtree of n is identical to T2. That is, if you cut off the tree at node n, the two trees should be identical."
   ]
  },
  {
   "cell_type": "markdown",
   "metadata": {},
   "source": [
    "<a id='4.11'></a>\n",
    "\n",
    "[Back to Top](#top)\n",
    "\n",
    "### 4.11 Random Node\n",
    "\n",
    "You are implementing a binary search tree class from scrathc, which, in addition to insert, find, and delete has a method getRandomNode() which returns a random node from the tree. All nodes should be equally likely to be chosen. Design and implement an algorithm for getRandomNode, and explain how you would implement the rest of the methods."
   ]
  },
  {
   "cell_type": "markdown",
   "metadata": {},
   "source": [
    "<a id='4.12'></a>\n",
    "\n",
    "[Back to Top](#top)\n",
    "\n",
    "### 4.12 Paths with Sum\n",
    "\n",
    "You are given a binary tree in which each node contains an integer value (which might be positive or negative). Design an algorithm to count the number of paths that sum to a given value. The path does not need to start or end at the root or a leaf, but it must go downwards (traveling only from parent nodes to child nodes)."
   ]
  }
 ],
 "metadata": {
  "kernelspec": {
   "display_name": "Python 3",
   "language": "python",
   "name": "python3"
  },
  "language_info": {
   "codemirror_mode": {
    "name": "ipython",
    "version": 3
   },
   "file_extension": ".py",
   "mimetype": "text/x-python",
   "name": "python",
   "nbconvert_exporter": "python",
   "pygments_lexer": "ipython3",
   "version": "3.6.1"
  }
 },
 "nbformat": 4,
 "nbformat_minor": 2
}
