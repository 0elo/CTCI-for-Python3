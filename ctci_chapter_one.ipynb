{
 "cells": [
  {
   "cell_type": "markdown",
   "metadata": {},
   "source": [
    "<a id='top'></a>\n",
    "\n",
    "# CTCI for Python 3.6"
   ]
  },
  {
   "cell_type": "markdown",
   "metadata": {},
   "source": [
    "### Chapter 1: Arrays and Strings\n",
    "\n",
    "[Problem 1.1: Is Unique](#1.1)\n",
    "\n",
    "[Problem 1.2: Check Permutation](#1.2)\n",
    "\n",
    "[Problem 1.3: URLify](#1.3)\n",
    "\n",
    "[Problem 1.4](#1.4)\n",
    "\n",
    "[Problem 1.5](#1.5)\n",
    "\n",
    "[Problem 1.6](#1.6)\n",
    "\n",
    "[Problem 1.7](#1.7)\n",
    "\n",
    "[Problem 1.8](#1.8)"
   ]
  },
  {
   "cell_type": "code",
   "execution_count": 1,
   "metadata": {
    "collapsed": true
   },
   "outputs": [],
   "source": [
    "# Using cProfile to display execution times\n",
    "import cProfile, random, unittest\n",
    "\n",
    "from faker import Faker\n"
   ]
  },
  {
   "cell_type": "code",
   "execution_count": 2,
   "metadata": {
    "collapsed": true
   },
   "outputs": [],
   "source": [
    "def multirun(f, *args):\n",
    "\n",
    "    iterations = range(10000)\n",
    "    for i in iterations:\n",
    "\n",
    "        f(*args)"
   ]
  },
  {
   "cell_type": "markdown",
   "metadata": {},
   "source": [
    "<a id='1.1'></a>\n",
    "\n",
    "[Back to Top](#top)\n",
    "\n",
    "### 1.1 Is Unique\n",
    "Implement an algorithm to determine if a string has all unique characters. What if you cannot use additional data structures?"
   ]
  },
  {
   "cell_type": "code",
   "execution_count": 3,
   "metadata": {
    "collapsed": true
   },
   "outputs": [],
   "source": [
    "'''Brute force method: O(N^2)\n",
    "\n",
    "This implementation checks all characters\n",
    "against each other within a nested for loop.\n",
    " \n",
    "This is also the implementation you would use if you\n",
    "couldn't use additional data structures.\n",
    "'''\n",
    "def isUnique_brute(string):\n",
    "\n",
    "    # Assuming ASCII\n",
    "    charset = 128\n",
    "    \n",
    "    # If length is greater than available\n",
    "    # charset, then string is definitely\n",
    "    # not unique\n",
    "    if len(string) > charset:\n",
    "        return False\n",
    "    \n",
    "    # Run n*(n-1) times through input string\n",
    "    # to check current character with all\n",
    "    # others in string\n",
    "    for idx, i in enumerate(string):\n",
    "        \n",
    "        # Loop through starting at the index\n",
    "        # of the top level loop plus one\n",
    "        for j in string[idx+1:]:\n",
    "            if j == i:\n",
    "                return False\n",
    "            \n",
    "    return True\n",
    "\n",
    "\n",
    "'''Implementation using hash table: O(N)\n",
    "\n",
    "This implementation initializes an empty dictionary\n",
    "and loops through the string once, adding all characters\n",
    "and setting their value to True. If found a second time,\n",
    "the function will return False.\n",
    "'''\n",
    "def isUnique_hash(string):\n",
    "    \n",
    "    charset = 128\n",
    "    if len(string) > charset:\n",
    "        return False\n",
    "    \n",
    "    charmap = dict()\n",
    "    \n",
    "    # Do this in O(N) time in one pass\n",
    "    # by keeping a counter for each\n",
    "    # character in the dictionary\n",
    "    for i in string:\n",
    "        if i in charmap:\n",
    "            \n",
    "            return False\n",
    "            \n",
    "        else:\n",
    "        \n",
    "            charmap[i] = True\n",
    "            \n",
    "    return True\n",
    "\n",
    "'''Implementation using boolean list: O(N)\n",
    "\n",
    "This implementation is similar to the hash table\n",
    "implementation but utilizes a boolean list instead.\n",
    "'''\n",
    "def isUnique_bool(string):\n",
    "    \n",
    "    charset = 128\n",
    "    if len(string) > charset:\n",
    "        return False\n",
    "    \n",
    "    charlist = [False]*128\n",
    "    \n",
    "    for i in string:\n",
    "        val = ord(i)\n",
    "        if charlist[val]:\n",
    "            return False\n",
    "        else:\n",
    "            charlist[val] = True\n",
    "    return True"
   ]
  },
  {
   "cell_type": "code",
   "execution_count": 4,
   "metadata": {
    "collapsed": true
   },
   "outputs": [],
   "source": [
    "unique = 'abcdefghijklmnopqrstuvwxyz .!?;[]{}()'\n",
    "ununique = 'This be not unique'\n",
    "\n",
    "try:\n",
    "    \n",
    "    assert isUnique_brute(unique)\n",
    "    assert isUnique_hash(unique)\n",
    "    assert isUnique_bool(unique)\n",
    "    assert not isUnique_brute(ununique)\n",
    "    assert not isUnique_brute(unique*2)\n",
    "    assert not isUnique_hash(ununique)\n",
    "    assert not isUnique_hash(unique*2)\n",
    "    assert not isUnique_bool(ununique)\n",
    "    assert not isUnique_bool(unique*2)\n",
    "    \n",
    "except:\n",
    "    \n",
    "    raise AssertionError()"
   ]
  },
  {
   "cell_type": "code",
   "execution_count": 5,
   "metadata": {
    "scrolled": false
   },
   "outputs": [
    {
     "name": "stdout",
     "output_type": "stream",
     "text": [
      "         20004 function calls in 0.462 seconds\n",
      "\n",
      "   Ordered by: standard name\n",
      "\n",
      "   ncalls  tottime  percall  cumtime  percall filename:lineno(function)\n",
      "        1    0.005    0.005    0.462    0.462 <ipython-input-2-85b75c24e4cf>:1(multirun)\n",
      "    10000    0.456    0.000    0.458    0.000 <ipython-input-3-c87b18c602f8>:9(isUnique_brute)\n",
      "        1    0.000    0.000    0.462    0.462 <string>:1(<module>)\n",
      "        1    0.000    0.000    0.462    0.462 {built-in method builtins.exec}\n",
      "    10000    0.001    0.000    0.001    0.000 {built-in method builtins.len}\n",
      "        1    0.000    0.000    0.000    0.000 {method 'disable' of '_lsprof.Profiler' objects}\n",
      "\n",
      "\n",
      "         20004 function calls in 0.052 seconds\n",
      "\n",
      "   Ordered by: standard name\n",
      "\n",
      "   ncalls  tottime  percall  cumtime  percall filename:lineno(function)\n",
      "        1    0.004    0.004    0.052    0.052 <ipython-input-2-85b75c24e4cf>:1(multirun)\n",
      "    10000    0.048    0.000    0.049    0.000 <ipython-input-3-c87b18c602f8>:41(isUnique_hash)\n",
      "        1    0.000    0.000    0.052    0.052 <string>:1(<module>)\n",
      "        1    0.000    0.000    0.052    0.052 {built-in method builtins.exec}\n",
      "    10000    0.001    0.000    0.001    0.000 {built-in method builtins.len}\n",
      "        1    0.000    0.000    0.000    0.000 {method 'disable' of '_lsprof.Profiler' objects}\n",
      "\n",
      "\n",
      "         390004 function calls in 0.106 seconds\n",
      "\n",
      "   Ordered by: standard name\n",
      "\n",
      "   ncalls  tottime  percall  cumtime  percall filename:lineno(function)\n",
      "        1    0.005    0.005    0.106    0.106 <ipython-input-2-85b75c24e4cf>:1(multirun)\n",
      "    10000    0.081    0.000    0.101    0.000 <ipython-input-3-c87b18c602f8>:68(isUnique_bool)\n",
      "        1    0.000    0.000    0.106    0.106 <string>:1(<module>)\n",
      "        1    0.000    0.000    0.106    0.106 {built-in method builtins.exec}\n",
      "    10000    0.001    0.000    0.001    0.000 {built-in method builtins.len}\n",
      "   370000    0.019    0.000    0.019    0.000 {built-in method builtins.ord}\n",
      "        1    0.000    0.000    0.000    0.000 {method 'disable' of '_lsprof.Profiler' objects}\n",
      "\n",
      "\n"
     ]
    }
   ],
   "source": [
    "cProfile.run('multirun(isUnique_brute, unique)')\n",
    "cProfile.run('multirun(isUnique_hash, unique)')\n",
    "cProfile.run('multirun(isUnique_bool, unique)')"
   ]
  },
  {
   "cell_type": "markdown",
   "metadata": {},
   "source": [
    "#### Observations\n",
    "\n",
    "* It appears that lookups for dictionaries are marginally faster than for lists."
   ]
  },
  {
   "cell_type": "markdown",
   "metadata": {},
   "source": [
    "<a id='1.2'></a>\n",
    "\n",
    "[Back to Top](#top)\n",
    "\n",
    "### 1.2 Check Permutation\n",
    "Given two strings, write a method to decide if one is a permutation of the other.\n",
    "\n",
    "Assumptions:\n",
    "\n",
    "* Comparison will be case sensitive\n",
    "* Whitespace is significant"
   ]
  },
  {
   "cell_type": "code",
   "execution_count": 6,
   "metadata": {
    "collapsed": true
   },
   "outputs": [],
   "source": [
    "'''Compare sorted strings: unsure\n",
    "\n",
    "Probably around O(N) runtime. Sorts can be expensive though.\n",
    "\n",
    "This implementation sorts both strings and compares them.\n",
    "'''\n",
    "def checkPermutation_sort(s1, s2):\n",
    "    \n",
    "    if len(s1) != len(s2):\n",
    "        \n",
    "        return False\n",
    "    \n",
    "    return ''.join(sorted(s1)) == ''.join(sorted(s2))\n",
    "\n",
    "'''Check counts using hash table: O(N)\n",
    "\n",
    "This implementation stores counts of the first string\n",
    "in a hash table and checks against the second string.\n",
    "'''\n",
    "def checkPermutation_hash(s1, s2):\n",
    "    \n",
    "    if len(s1) != len(s2):\n",
    "        \n",
    "        return False\n",
    "    \n",
    "    charmap = dict()\n",
    "    \n",
    "    for i in s1:\n",
    "        \n",
    "        if i in charmap:\n",
    "            \n",
    "            charmap[i] += 1\n",
    "            \n",
    "        else:\n",
    "            \n",
    "            charmap[i] = 1\n",
    "            \n",
    "    for i in s2:\n",
    "        \n",
    "        if i in charmap:\n",
    "            \n",
    "            charmap[i] -= 1\n",
    "            \n",
    "            if charmap[i] < 0:\n",
    "                \n",
    "                return False\n",
    "            \n",
    "        else:\n",
    "            \n",
    "            return False\n",
    "    \n",
    "    return True\n",
    "\n",
    "'''Check counts using lists: O(N)\n",
    "\n",
    "This implementation is similar to the hash table\n",
    "implementation but utilizes an int list instead.\n",
    "'''\n",
    "def checkPermutation_list(s1, s2):\n",
    "    \n",
    "    if len(s1) != len(s2):\n",
    "        \n",
    "        return False\n",
    "    \n",
    "    charlist = [0]*128 # Assume 128 char set\n",
    "    \n",
    "    for i in s1:\n",
    "        \n",
    "        charlist[ord(i)] += 1\n",
    "        \n",
    "    for i in s2:\n",
    "        \n",
    "        charlist[ord(i)] -= 1\n",
    "        \n",
    "        if charlist[ord(i)] < 0:\n",
    "            \n",
    "            return False\n",
    "    \n",
    "    return True\n",
    "    \n",
    "    "
   ]
  },
  {
   "cell_type": "code",
   "execution_count": 7,
   "metadata": {},
   "outputs": [],
   "source": [
    "s1 = ''.join(Faker().words())\n",
    "s2 = ''.join(random.sample(s1,len(s1)))\n",
    "s3 = s1 + s2\n",
    "s4 = ''.join(random.sample(s3,len(s3)))\n",
    "s5 = 's'*20 + 'd'*5\n",
    "s6 = 's'*23 + 'd'*2"
   ]
  },
  {
   "cell_type": "code",
   "execution_count": 8,
   "metadata": {},
   "outputs": [],
   "source": [
    "try:\n",
    "    \n",
    "    assert checkPermutation_sort(s1, s2)\n",
    "    assert checkPermutation_sort(s3, s4)\n",
    "    assert not checkPermutation_sort(s5, s6)\n",
    "    assert checkPermutation_hash(s1, s2)\n",
    "    assert checkPermutation_hash(s3, s4)\n",
    "    assert not checkPermutation_hash(s5, s6)\n",
    "    assert checkPermutation_list(s1, s2)\n",
    "    assert checkPermutation_list(s3, s4)\n",
    "    assert not checkPermutation_list(s5, s6)\n",
    "    \n",
    "    assert not checkPermutation_sort(s1, s3)\n",
    "    assert not checkPermutation_sort(s2, s4)\n",
    "    assert not checkPermutation_hash(s1, s3)\n",
    "    assert not checkPermutation_hash(s2, s4)\n",
    "    assert not checkPermutation_list(s1, s3)\n",
    "    assert not checkPermutation_list(s2, s4)\n",
    "    \n",
    "except:\n",
    "    \n",
    "    raise AssertionError()"
   ]
  },
  {
   "cell_type": "code",
   "execution_count": 9,
   "metadata": {},
   "outputs": [
    {
     "name": "stdout",
     "output_type": "stream",
     "text": [
      "         70004 function calls in 0.147 seconds\n",
      "\n",
      "   Ordered by: standard name\n",
      "\n",
      "   ncalls  tottime  percall  cumtime  percall filename:lineno(function)\n",
      "        1    0.005    0.005    0.147    0.147 <ipython-input-2-85b75c24e4cf>:1(multirun)\n",
      "    10000    0.018    0.000    0.142    0.000 <ipython-input-6-cc38544189a2>:7(checkPermutation_sort)\n",
      "        1    0.000    0.000    0.147    0.147 <string>:1(<module>)\n",
      "        1    0.000    0.000    0.147    0.147 {built-in method builtins.exec}\n",
      "    20000    0.002    0.000    0.002    0.000 {built-in method builtins.len}\n",
      "    20000    0.110    0.000    0.110    0.000 {built-in method builtins.sorted}\n",
      "        1    0.000    0.000    0.000    0.000 {method 'disable' of '_lsprof.Profiler' objects}\n",
      "    20000    0.013    0.000    0.013    0.000 {method 'join' of 'str' objects}\n",
      "\n",
      "\n",
      "         30004 function calls in 0.147 seconds\n",
      "\n",
      "   Ordered by: standard name\n",
      "\n",
      "   ncalls  tottime  percall  cumtime  percall filename:lineno(function)\n",
      "        1    0.004    0.004    0.147    0.147 <ipython-input-2-85b75c24e4cf>:1(multirun)\n",
      "    10000    0.142    0.000    0.143    0.000 <ipython-input-6-cc38544189a2>:20(checkPermutation_hash)\n",
      "        1    0.000    0.000    0.147    0.147 <string>:1(<module>)\n",
      "        1    0.000    0.000    0.147    0.147 {built-in method builtins.exec}\n",
      "    20000    0.001    0.000    0.001    0.000 {built-in method builtins.len}\n",
      "        1    0.000    0.000    0.000    0.000 {method 'disable' of '_lsprof.Profiler' objects}\n",
      "\n",
      "\n",
      "         1050004 function calls in 0.273 seconds\n",
      "\n",
      "   Ordered by: standard name\n",
      "\n",
      "   ncalls  tottime  percall  cumtime  percall filename:lineno(function)\n",
      "        1    0.006    0.006    0.273    0.273 <ipython-input-2-85b75c24e4cf>:1(multirun)\n",
      "    10000    0.211    0.000    0.268    0.000 <ipython-input-6-cc38544189a2>:59(checkPermutation_list)\n",
      "        1    0.000    0.000    0.273    0.273 <string>:1(<module>)\n",
      "        1    0.000    0.000    0.273    0.273 {built-in method builtins.exec}\n",
      "    20000    0.001    0.000    0.001    0.000 {built-in method builtins.len}\n",
      "  1020000    0.055    0.000    0.055    0.000 {built-in method builtins.ord}\n",
      "        1    0.000    0.000    0.000    0.000 {method 'disable' of '_lsprof.Profiler' objects}\n",
      "\n",
      "\n"
     ]
    }
   ],
   "source": [
    "cProfile.run('multirun(checkPermutation_sort, s3, s4)')\n",
    "cProfile.run('multirun(checkPermutation_hash, s3, s4)')\n",
    "cProfile.run('multirun(checkPermutation_list, s3, s4)')"
   ]
  },
  {
   "cell_type": "markdown",
   "metadata": {},
   "source": [
    "<a id='1.3'></a>\n",
    "\n",
    "[Back to Top](#top)\n",
    "\n",
    "### 1.3 URLify\n",
    "Write a method to replace all spaces in a string with '%20'. You may assume that the string has sufficient space at the end to hold the additional characters, and that you are given the \"true\" length of the string.\n",
    "\n",
    "> **Example**\n",
    "\n",
    "> Input:    \"Mr John Smith    \", 13\n",
    "\n",
    "> Output:   \"Mr%20John%20Smith\""
   ]
  },
  {
   "cell_type": "code",
   "execution_count": 10,
   "metadata": {
    "collapsed": true
   },
   "outputs": [],
   "source": [
    "def URLify(string):\n",
    "    \n",
    "    url = string.rstrip() # Default strips whitespace\n",
    "    \n",
    "    return url.replace(' ', '%20')"
   ]
  },
  {
   "cell_type": "code",
   "execution_count": 11,
   "metadata": {},
   "outputs": [
    {
     "name": "stdout",
     "output_type": "stream",
     "text": [
      "Mr%20John%20Smith\n"
     ]
    }
   ],
   "source": [
    "print(URLify('Mr John Smith    '))"
   ]
  },
  {
   "cell_type": "markdown",
   "metadata": {},
   "source": [
    "<a id='1.4'></a>\n",
    "\n",
    "[Back to Top](#top)\n",
    "\n",
    "### 1.4 Palindrome Permutation\n",
    "Given a string, write a function to check if it is a permutation of a palindrome. A palindrome is a word or phrase that is the same forwards and backwards. A permutation is a rearrangement of letters. The palindrome does not need to be limited to just dictionary words.\n",
    "\n",
    "> **Example**\n",
    "\n",
    "> Input: Tact Coa\n",
    "> Output: True (permutations: \"taco cat\", \"atco cta\", etc.)"
   ]
  },
  {
   "cell_type": "markdown",
   "metadata": {},
   "source": [
    "<a id='1.5'></a>\n",
    "\n",
    "[Back to Top](#top)\n",
    "\n",
    "### 1.5 One Away\n",
    "There are three types of edits that can be performed on strings: insert a character, remove a character, or replace a character. Given two strings, write a function to check if they are one edit (or zero edits) away.\n",
    "\n",
    "> **Example**\n",
    "\n",
    "> pale,  ple  -> true\n",
    "\n",
    "> pales, pale -> true\n",
    "\n",
    "> pale,  bale -> true\n",
    "\n",
    "> pale,  bae  -> false"
   ]
  },
  {
   "cell_type": "markdown",
   "metadata": {},
   "source": [
    "<a id='1.6'></a>\n",
    "\n",
    "[Back to Top](#top)\n",
    "\n",
    "### 1.6 String Compression\n",
    "Implement a method to perform basic string compression using the counts of repeated characters. For example, the string **aabcccccaaa** would become **a2b1c5a3**. If the \"compressed\" string would not become smaller than the original string, your method should return the orgiinal string. You can assume the string has only uppercase and lowercase letters (a-z)."
   ]
  },
  {
   "cell_type": "markdown",
   "metadata": {},
   "source": [
    "<a id='1.7'></a>\n",
    "\n",
    "[Back to Top](#top)\n",
    "\n",
    "### 1.7 Rotate Matrix\n",
    "Given an image represented by an NxN matrix, where each pixel in the image is 4 bytes, write a method to rotate the image by 90 degrees. Can you do this in place?"
   ]
  },
  {
   "cell_type": "markdown",
   "metadata": {},
   "source": [
    "<a id='1.8'></a>\n",
    "\n",
    "[Back to Top](#top)\n",
    "\n",
    "### 1.8 Zero Matrix\n",
    "Write an algorithm such that if an element in an MxN matrix is 0, its entire row and column are set to 0."
   ]
  },
  {
   "cell_type": "code",
   "execution_count": null,
   "metadata": {
    "collapsed": true
   },
   "outputs": [],
   "source": []
  }
 ],
 "metadata": {
  "kernelspec": {
   "display_name": "Python 3",
   "language": "python",
   "name": "python3"
  },
  "language_info": {
   "codemirror_mode": {
    "name": "ipython",
    "version": 3
   },
   "file_extension": ".py",
   "mimetype": "text/x-python",
   "name": "python",
   "nbconvert_exporter": "python",
   "pygments_lexer": "ipython3",
   "version": "3.6.1"
  }
 },
 "nbformat": 4,
 "nbformat_minor": 2
}
