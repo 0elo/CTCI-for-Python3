{
 "cells": [
  {
   "cell_type": "markdown",
   "metadata": {},
   "source": [
    "<a id='top'></a>\n",
    "\n",
    "# CTCI for Python 3.6\n",
    "\n",
    "**Notebook arranged by:** [Kevin Yu](https://github.com/0elo)\n",
    "\n",
    "Support *Cracking the Coding Interview: 189 Programming Questions and Solutions, 6th Edition* by Gayle Laakmann McDowell by buying the book on [Amazon](https://www.amazon.com/Cracking-Coding-Interview-Programming-Questions/dp/0984782850/ref=sr_1_1?ie=UTF8&qid=1521267378&sr=8-1&keywords=ctci)."
   ]
  },
  {
   "cell_type": "markdown",
   "metadata": {},
   "source": [
    "### Chapter 2: Linked Lists\n",
    "\n",
    "[Problem 2.1: Remove Dups](#2.1)\n",
    "\n",
    "[Problem 2.2: Return Kth to Last](#2.2)\n",
    "\n",
    "[Problem 2.3: Delete Middle Node](#2.3)\n",
    "\n",
    "[Problem 2.4: Partition](#2.4)\n",
    "\n",
    "[Problem 2.5: Sum Lists](#2.5)\n",
    "\n",
    "[Problem 2.6: Palindrome](#2.6)\n",
    "\n",
    "[Problem 2.7: Intersection](#2.7)\n",
    "\n",
    "[Problem 2.8: Loop Detection](#2.8)"
   ]
  },
  {
   "cell_type": "markdown",
   "metadata": {},
   "source": [
    "<a id='2.1'></a>\n",
    "\n",
    "[Back to Top](#top)\n",
    "\n",
    "### 2.1 Remove Dups\n",
    "\n",
    "Write code to remove duplicates from an unsorted linked list.\n",
    "\n",
    "FOLLOW UP\n",
    "\n",
    "How would you solve this problem if a temporary buffer is not allowed?"
   ]
  },
  {
   "cell_type": "markdown",
   "metadata": {},
   "source": [
    "<a id='2.2'></a>\n",
    "\n",
    "[Back to Top](#top)\n",
    "\n",
    "### 2.2 Return Kth to Last\n",
    "\n",
    "Implement an algorithm to find the kth to last element of a singly linked list."
   ]
  },
  {
   "cell_type": "markdown",
   "metadata": {},
   "source": [
    "<a id='2.3'></a>\n",
    "\n",
    "[Back to Top](#top)\n",
    "\n",
    "### 2.3 Delete Middle Node\n",
    "Implement an algorithm to delete a node in the middle (i.e., any node but the first and last node, not necessarily the exact middle) of a singly linked list, given only access to that node.\n",
    "\n",
    "> **Example**\n",
    "\n",
    "> Input: the node c from the linked list `a->b->c->d->e->f`\n",
    "\n",
    "> Result: nothing is returned, but the new linked list looks like `a->b->d->e->f`"
   ]
  },
  {
   "cell_type": "markdown",
   "metadata": {},
   "source": [
    "<a id='2.4'></a>\n",
    "\n",
    "[Back to Top](#top)\n",
    "\n",
    "### 2.4 Partition\n",
    "\n",
    "Write code to partition a linked list around a value x, such that all nodes less than x come before all nodes greater than or equal to x. If x is contained within the list, the values of x only need to be after the elements less than x (see below). The partition element x can appear anywhere in the \"right partition\"; it does nto need to appear between the left and right partitions.\n",
    "\n",
    "> **Example**\n",
    "\n",
    "> Input:  `3 -> 5 -> 8 -> 5 -> 10 -> 2 -> 1 [partition = 5]`\n",
    "\n",
    "> Output: `3 -> 1 -> 2 -> 10 -> 5 -> 5 -> 8`"
   ]
  },
  {
   "cell_type": "markdown",
   "metadata": {},
   "source": [
    "<a id='2.5'></a>\n",
    "\n",
    "[Back to Top](#top)\n",
    "\n",
    "### 2.5 Sum Lists\n",
    "\n",
    "You have two numbers represented by a linked list, where each node contians a single digit. The digits are stored in reverse order, such that the 1's digit is at the head of the list. Write a function that adds the two numbers and returns the sum as a linked list.\n",
    "\n",
    "> **Example**\n",
    "\n",
    "> Input:  `(7 -> 1 -> 6) + (5 -> 9 -> 2)`. That is, `617 + 295`.\n",
    "\n",
    "> Output: `2 -> 1 -> 9`. That is, `912`.\n",
    "\n",
    "FOLLOW UP\n",
    "\n",
    "Suppose the digits are stored in forward order. Repeat the above problem.\n",
    "\n",
    "> Input:  `(6 -> 1 -> 7) + (2 -> 9 -> 5)`. That is, `617 + 295`.\n",
    "\n",
    "> Output: `9 -> 1 -> 2`. That is, `912`."
   ]
  },
  {
   "cell_type": "markdown",
   "metadata": {},
   "source": [
    "<a id='2.6'></a>\n",
    "\n",
    "[Back to Top](#top)\n",
    "\n",
    "### 2.6 Palindrome\n",
    "\n",
    "Implement a function to check if a linked list is a palindrome."
   ]
  },
  {
   "cell_type": "markdown",
   "metadata": {},
   "source": [
    "<a id='2.7'></a>\n",
    "\n",
    "[Back to Top](#top)\n",
    "\n",
    "### 2.7 Remove Dups\n",
    "\n",
    "Given two (singly) linked lists, determine if the two lists intersect. Return the intersecting node. Note that the intersection is defined based on reference, not value. That is, if the kth node of the first linked list is the exact same node (by reference) as the `jth` node of the second linked list, then they are intersecting."
   ]
  }
 ],
 "metadata": {
  "kernelspec": {
   "display_name": "Python 3",
   "language": "python",
   "name": "python3"
  },
  "language_info": {
   "codemirror_mode": {
    "name": "ipython",
    "version": 3
   },
   "file_extension": ".py",
   "mimetype": "text/x-python",
   "name": "python",
   "nbconvert_exporter": "python",
   "pygments_lexer": "ipython3",
   "version": "3.6.1"
  }
 },
 "nbformat": 4,
 "nbformat_minor": 2
}
